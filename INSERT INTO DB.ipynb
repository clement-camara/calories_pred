{
 "cells": [
  {
   "cell_type": "markdown",
   "metadata": {},
   "source": [
    "# Base de données Postgresql"
   ]
  },
  {
   "cell_type": "markdown",
   "metadata": {},
   "source": [
    "## Création de table"
   ]
  },
  {
   "cell_type": "code",
   "execution_count": 25,
   "metadata": {},
   "outputs": [],
   "source": [
    "import psycopg2\n",
    "  \n",
    "conn = psycopg2.connect(user=\"clement\",\n",
    "        password=\"postgres\",\n",
    "        host=\"localhost\",\n",
    "        port=\"5432\",\n",
    "        database=\"diet\"\n",
    ")\n",
    "  \n",
    "conn.autocommit = True\n",
    "cursor = conn.cursor()  \n",
    "  \n",
    "sql = '''CREATE TABLE <nom_de_la_table>\n",
    "(\n",
    "    User_id integer NOT NULL,\n",
    "    Gender character varying(50),\n",
    "    Age integer,\n",
    "    Height double precision,\n",
    "    Weight double precision,\n",
    "    Duration real,\n",
    "    Heart_rate real,\n",
    "    Body_temp real\n",
    ");'''\n",
    "  \n",
    "cursor.execute(sql)\n",
    "  \n",
    "f = open(r'/Users/marinelafargue/Desktop/projet calorie/data/exercise.csv', 'r')\n",
    "next(f)\n",
    "cursor.copy_from(f, '<nom_de_la_table>', sep=',')\n",
    "f.close()"
   ]
  },
  {
   "cell_type": "code",
   "execution_count": null,
   "metadata": {},
   "outputs": [],
   "source": []
  }
 ],
 "metadata": {
  "kernelspec": {
   "display_name": "Python 3",
   "language": "python",
   "name": "python3"
  },
  "language_info": {
   "codemirror_mode": {
    "name": "ipython",
    "version": 3
   },
   "file_extension": ".py",
   "mimetype": "text/x-python",
   "name": "python",
   "nbconvert_exporter": "python",
   "pygments_lexer": "ipython3",
   "version": "3.7.6"
  },
  "toc": {
   "base_numbering": 1,
   "nav_menu": {},
   "number_sections": true,
   "sideBar": true,
   "skip_h1_title": false,
   "title_cell": "Table of Contents",
   "title_sidebar": "Contents",
   "toc_cell": false,
   "toc_position": {},
   "toc_section_display": true,
   "toc_window_display": false
  }
 },
 "nbformat": 4,
 "nbformat_minor": 4
}
