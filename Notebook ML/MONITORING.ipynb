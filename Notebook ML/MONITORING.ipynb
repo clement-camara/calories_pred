{
 "cells": [
  {
   "cell_type": "markdown",
   "metadata": {},
   "source": [
    "## Import"
   ]
  },
  {
   "cell_type": "code",
   "execution_count": 1,
   "metadata": {},
   "outputs": [],
   "source": [
    "import os\n",
    "import psycopg2\n",
    "from dotenv import load_dotenv\n",
    "\n",
    "import pandas as pd\n",
    "import numpy as np\n",
    "\n",
    "# preprocessing\n",
    "from sklearn.preprocessing import OneHotEncoder\n",
    "from sklearn.preprocessing import MinMaxScaler\n",
    "from sklearn.compose import make_column_transformer\n",
    "from sklearn.pipeline import Pipeline\n",
    "\n",
    "\n",
    "# machine learning\n",
    "from sklearn.model_selection import train_test_split\n",
    "from sklearn.model_selection import cross_val_score\n",
    "from sklearn import linear_model\n",
    "from sklearn.linear_model import LinearRegression\n",
    "from sklearn.model_selection import learning_curve\n",
    "from sklearn.preprocessing import PolynomialFeatures\n",
    "from sklearn.ensemble import RandomForestRegressor\n",
    "from sklearn.model_selection import KFold\n",
    "from sklearn.linear_model import Ridge\n",
    "\n",
    "\n",
    "# metriques \n",
    "from sklearn.metrics import mean_absolute_error\n",
    "from sklearn.metrics import mean_squared_error\n",
    "from sklearn.metrics import r2_score\n",
    "from sklearn.metrics import median_absolute_error\n",
    "\n",
    "# Monitoring \n",
    "import mlflow\n",
    "import mlflow.sklearn\n",
    "\n",
    "# Visualisation\n",
    "import seaborn as sns\n",
    "import matplotlib.pyplot as plt \n",
    "%matplotlib inline\n",
    "plt.style.use('seaborn')\n",
    "\n",
    "# Affichage cellule\n",
    "import warnings\n",
    "warnings.filterwarnings('ignore')\n",
    "pd.set_option('display.max_row', 1000)\n",
    "from pprint import pprint\n",
    "\n",
    "# Chargement du model pour déploiement\n",
    "import pickle"
   ]
  },
  {
   "cell_type": "code",
   "execution_count": 2,
   "metadata": {},
   "outputs": [
    {
     "name": "stdout",
     "output_type": "stream",
     "text": [
      "('Connection à postgres Réussie!',)\n"
     ]
    }
   ],
   "source": [
    "\n",
    "\n",
    "load_dotenv()  # Nécessaire pour charger les variables d'environnement précédemment définies\n",
    "\n",
    "# Créer une connexion à postgres\n",
    "connection = psycopg2.connect(host=os.environ.get('PG_HOST'),\n",
    "                        user=os.environ.get('PG_USER'),\n",
    "                        password=os.environ.get('PG_PASSWORD'),\n",
    "                        dbname=os.environ.get('PG_DATABASE'))\n",
    "\n",
    "connection.autocommit = True  # Assurez-vous que les données sont ajoutées à la base de données immédiatement après les commandes d'écriture.\n",
    "cursor = connection.cursor()\n",
    "cursor.execute('SELECT %s as connected;', ('Connection à postgres Réussie!',))\n",
    "print(cursor.fetchone())"
   ]
  },
  {
   "cell_type": "code",
   "execution_count": 3,
   "metadata": {},
   "outputs": [],
   "source": [
    "def postgresql_to_dataframe(conn, select_query, column_names):\n",
    "    \"\"\"\n",
    "    Transformer une requête SELECT en un dataframe pandas\n",
    "    \"\"\"\n",
    "    cursor = conn.cursor()\n",
    "    try:\n",
    "        cursor.execute(select_query)\n",
    "    except (Exception, psycopg2.DatabaseError) as error:\n",
    "        print(\"Error: %s\" % error)\n",
    "        cursor.close()\n",
    "        return 1\n",
    "    \n",
    "    # Naturellement, nous obtenons une liste de \"tupples\".\n",
    "    tupples = cursor.fetchall()\n",
    "    cursor.close()\n",
    "    \n",
    "    # Nous devons juste le transformer en dataframe pandas.\n",
    "    df = pd.DataFrame(tupples, columns=column_names)\n",
    "    return df"
   ]
  },
  {
   "cell_type": "markdown",
   "metadata": {},
   "source": [
    "### Récupération de postgresql au dataframe"
   ]
  },
  {
   "cell_type": "code",
   "execution_count": 4,
   "metadata": {},
   "outputs": [
    {
     "data": {
      "text/html": [
       "<div>\n",
       "<style scoped>\n",
       "    .dataframe tbody tr th:only-of-type {\n",
       "        vertical-align: middle;\n",
       "    }\n",
       "\n",
       "    .dataframe tbody tr th {\n",
       "        vertical-align: top;\n",
       "    }\n",
       "\n",
       "    .dataframe thead th {\n",
       "        text-align: right;\n",
       "    }\n",
       "</style>\n",
       "<table border=\"1\" class=\"dataframe\">\n",
       "  <thead>\n",
       "    <tr style=\"text-align: right;\">\n",
       "      <th></th>\n",
       "      <th>user_id</th>\n",
       "      <th>gender</th>\n",
       "      <th>age</th>\n",
       "      <th>height</th>\n",
       "      <th>weight</th>\n",
       "      <th>duration</th>\n",
       "      <th>heart_rate</th>\n",
       "      <th>body_temp</th>\n",
       "      <th>calorie</th>\n",
       "    </tr>\n",
       "  </thead>\n",
       "  <tbody>\n",
       "    <tr>\n",
       "      <th>0</th>\n",
       "      <td>14733363</td>\n",
       "      <td>male</td>\n",
       "      <td>68</td>\n",
       "      <td>190.0</td>\n",
       "      <td>94.0</td>\n",
       "      <td>29.0</td>\n",
       "      <td>105.0</td>\n",
       "      <td>40.8</td>\n",
       "      <td>231.0</td>\n",
       "    </tr>\n",
       "    <tr>\n",
       "      <th>1</th>\n",
       "      <td>14861698</td>\n",
       "      <td>female</td>\n",
       "      <td>20</td>\n",
       "      <td>166.0</td>\n",
       "      <td>60.0</td>\n",
       "      <td>14.0</td>\n",
       "      <td>94.0</td>\n",
       "      <td>40.3</td>\n",
       "      <td>66.0</td>\n",
       "    </tr>\n",
       "    <tr>\n",
       "      <th>2</th>\n",
       "      <td>11179863</td>\n",
       "      <td>male</td>\n",
       "      <td>69</td>\n",
       "      <td>179.0</td>\n",
       "      <td>79.0</td>\n",
       "      <td>5.0</td>\n",
       "      <td>88.0</td>\n",
       "      <td>38.7</td>\n",
       "      <td>26.0</td>\n",
       "    </tr>\n",
       "    <tr>\n",
       "      <th>3</th>\n",
       "      <td>16180408</td>\n",
       "      <td>female</td>\n",
       "      <td>34</td>\n",
       "      <td>179.0</td>\n",
       "      <td>71.0</td>\n",
       "      <td>13.0</td>\n",
       "      <td>100.0</td>\n",
       "      <td>40.5</td>\n",
       "      <td>71.0</td>\n",
       "    </tr>\n",
       "    <tr>\n",
       "      <th>4</th>\n",
       "      <td>17771927</td>\n",
       "      <td>female</td>\n",
       "      <td>27</td>\n",
       "      <td>154.0</td>\n",
       "      <td>58.0</td>\n",
       "      <td>10.0</td>\n",
       "      <td>81.0</td>\n",
       "      <td>39.8</td>\n",
       "      <td>35.0</td>\n",
       "    </tr>\n",
       "  </tbody>\n",
       "</table>\n",
       "</div>"
      ],
      "text/plain": [
       "    user_id  gender  age  height  weight  duration  heart_rate  body_temp  \\\n",
       "0  14733363    male   68   190.0    94.0      29.0       105.0       40.8   \n",
       "1  14861698  female   20   166.0    60.0      14.0        94.0       40.3   \n",
       "2  11179863    male   69   179.0    79.0       5.0        88.0       38.7   \n",
       "3  16180408  female   34   179.0    71.0      13.0       100.0       40.5   \n",
       "4  17771927  female   27   154.0    58.0      10.0        81.0       39.8   \n",
       "\n",
       "   calorie  \n",
       "0    231.0  \n",
       "1     66.0  \n",
       "2     26.0  \n",
       "3     71.0  \n",
       "4     35.0  "
      ]
     },
     "execution_count": 4,
     "metadata": {},
     "output_type": "execute_result"
    }
   ],
   "source": [
    "conn = connection\n",
    "column_names = [\"user_id\",\"gender\", \"age\", \"height\", \"weight\", \"duration\", \"heart_rate\", \"body_temp\", \"calorie\"]\n",
    "# Execute the \"SELECT *\" query\n",
    "df_db = postgresql_to_dataframe(conn, \n",
    "\"SELECT persons.user_id as id, gender, age, height, weight, duration, heart_rate, body_temp,calorie FROM calories INNER JOIN persons ON calories.user_id = persons.user_id\"\n",
    "                                , column_names)\n",
    "df_db.head()"
   ]
  },
  {
   "cell_type": "markdown",
   "metadata": {},
   "source": [
    "## Monitoring par modèles"
   ]
  },
  {
   "cell_type": "code",
   "execution_count": 5,
   "metadata": {},
   "outputs": [],
   "source": [
    "# # utilisation des doubles crochets pour renvoyer un DataFrame pour la variable  X\n",
    "X = df_db[['duration']]\n",
    "# y unidimensionnel\n",
    "y = df_db['calorie']\n",
    "X_train,X_test,y_train,y_test = train_test_split(X,y,test_size=0.3,random_state=10)"
   ]
  },
  {
   "cell_type": "code",
   "execution_count": 6,
   "metadata": {},
   "outputs": [],
   "source": [
    "mlflow.set_tracking_uri('/Users/marinelafargue/Desktop/projet calorie/mlflow/mlruns')"
   ]
  },
  {
   "cell_type": "code",
   "execution_count": 7,
   "metadata": {},
   "outputs": [],
   "source": [
    "experiment_id = mlflow.create_experiment('Projet_Diet_Simplon_Monitoring')"
   ]
  },
  {
   "cell_type": "markdown",
   "metadata": {},
   "source": [
    "### 1) model_lineaire"
   ]
  },
  {
   "cell_type": "code",
   "execution_count": 8,
   "metadata": {},
   "outputs": [
    {
     "name": "stdout",
     "output_type": "stream",
     "text": [
      "MAE: 13.522473647813024\n",
      "Root Mean Squared Error: 338.17003713643567\n",
      "R2: 0.9132237752267383\n",
      "Median Mean Squared Error: 10.384579260526348\n"
     ]
    }
   ],
   "source": [
    "with mlflow.start_run(experiment_id = experiment_id):\n",
    "    \n",
    "    fit_intercept=True\n",
    "    normalize=True\n",
    "    n_jobs=2\n",
    "\n",
    "    model_lineaire = LinearRegression(fit_intercept=fit_intercept, normalize=normalize, n_jobs=n_jobs)\n",
    "    model_lineaire.fit(X_train,y_train)\n",
    "    model_lineaire.score(X_test,y_test)\n",
    "    \n",
    "    yPrediction = model_lineaire.predict(X_test)\n",
    "    \n",
    "    # Log model\n",
    "    mlflow.sklearn.log_model(model_lineaire, \"model_lineaire\")\n",
    "    \n",
    "    MAE = mean_absolute_error(y_test, yPrediction)\n",
    "    print(\"MAE: {}\". format(MAE))\n",
    "    RMSE = mean_squared_error(y_test, yPrediction)\n",
    "    print(\"Root Mean Squared Error: {}\". format(RMSE))\n",
    "    R2 = r2_score(y_test, yPrediction)\n",
    "    print(\"R2: {}\". format(R2))\n",
    "    NMAE = median_absolute_error(y_test, yPrediction)\n",
    "    print(\"Median Mean Squared Error: {}\". format(NMAE))\n",
    "    \n",
    "    mlflow.log_param('fit_intercept', fit_intercept)\n",
    "    mlflow.log_param('normalize', normalize)\n",
    "    mlflow.log_param('n_jobs', n_jobs)\n",
    "    \n",
    "    mlflow.log_metric('MAE',MAE)\n",
    "    mlflow.log_metric('RMSE',RMSE)\n",
    "    mlflow.log_metric('R2',R2)\n",
    "    mlflow.log_metric('NMAE',NMAE)"
   ]
  },
  {
   "cell_type": "markdown",
   "metadata": {},
   "source": [
    "### 2) random forest"
   ]
  },
  {
   "cell_type": "code",
   "execution_count": 9,
   "metadata": {},
   "outputs": [],
   "source": [
    "ohe=OneHotEncoder(sparse=False)\n",
    "scaler = MinMaxScaler()\n",
    "ct=make_column_transformer((ohe,['gender']),\n",
    "                      (scaler,  ['duration','heart_rate','body_temp']),remainder='passthrough')\n",
    "data_ct=ct.fit_transform(df_db)\n",
    "\n",
    "# Encodage sur le genre et retransformation en dataframe pandas nommé dum\n",
    "ohe_True=OneHotEncoder(sparse=True)\n",
    "ohe_with_sparse=ohe_True.fit_transform(df_db['gender'].values.reshape(-1,1)).toarray()\n",
    "ohe_with_sparse\n",
    "\n",
    "dum=pd.get_dummies(df_db,columns=['gender'],prefix='',prefix_sep='')"
   ]
  },
  {
   "cell_type": "code",
   "execution_count": 10,
   "metadata": {},
   "outputs": [],
   "source": [
    "X = dum[['age', 'weight', 'duration', 'heart_rate','body_temp','female', 'male']]\n",
    "y = dum.calorie\n",
    "\n",
    "X_train,X_test,y_train,y_test = train_test_split(X,y,test_size=0.3,random_state=42)"
   ]
  },
  {
   "cell_type": "code",
   "execution_count": 11,
   "metadata": {},
   "outputs": [
    {
     "name": "stdout",
     "output_type": "stream",
     "text": [
      "MAE: 5.459854078144971\n",
      "Root Mean Squared Error: 63.84568119378923\n",
      "R2: 0.9838259314902525\n",
      "Median Mean Squared Error: 3.6715093947254545\n"
     ]
    }
   ],
   "source": [
    "with mlflow.start_run(experiment_id = experiment_id):\n",
    "\n",
    "    # Set the model parameters. \n",
    "    n_estimators = 100\n",
    "    max_depth = 6\n",
    "  \n",
    "    # Create and train model.\n",
    "    rf = RandomForestRegressor(n_estimators = n_estimators, max_depth = max_depth)\n",
    "    rf.fit(X_train, y_train)\n",
    "  \n",
    "    # Use the model to make predictions on the test dataset.\n",
    "    yPrediction = rf.predict(X_test)\n",
    "    \n",
    "    # Log model\n",
    "    mlflow.sklearn.log_model(rf, \"RandomForestRegressor\")\n",
    "    \n",
    "    MAE = mean_absolute_error(y_test, yPrediction)\n",
    "    print(\"MAE: {}\". format(MAE))\n",
    "    RMSE = mean_squared_error(y_test, yPrediction)\n",
    "    print(\"Root Mean Squared Error: {}\". format(RMSE))\n",
    "    R2 = r2_score(y_test, yPrediction)\n",
    "    print(\"R2: {}\". format(R2))\n",
    "    NMAE = median_absolute_error(y_test, yPrediction)\n",
    "    print(\"Median Mean Squared Error: {}\". format(NMAE))\n",
    "    \n",
    "    mlflow.log_param('n_estimators', n_estimators)\n",
    "    mlflow.log_param('max_depth', max_depth)\n",
    "    \n",
    "    mlflow.log_metric('MAE',MAE)\n",
    "    mlflow.log_metric('RMSE',RMSE)\n",
    "    mlflow.log_metric('R2',R2)\n",
    "    mlflow.log_metric('NMAE',NMAE)"
   ]
  },
  {
   "cell_type": "markdown",
   "metadata": {},
   "source": [
    "### 3) ridge"
   ]
  },
  {
   "cell_type": "code",
   "execution_count": 12,
   "metadata": {},
   "outputs": [],
   "source": [
    "X = dum[['age', 'weight', 'duration', 'heart_rate','body_temp','female', 'male']]\n",
    "y = dum.calorie\n",
    "\n",
    "X_train,X_test,y_train,y_test = train_test_split(X,y,test_size=0.3,random_state=42)"
   ]
  },
  {
   "cell_type": "code",
   "execution_count": 13,
   "metadata": {},
   "outputs": [
    {
     "name": "stdout",
     "output_type": "stream",
     "text": [
      "MAE: 5.459854078144971\n",
      "Root Mean Squared Error: 63.84568119378923\n",
      "R2: 0.9838259314902525\n",
      "Median Mean Squared Error: 3.6715093947254545\n"
     ]
    }
   ],
   "source": [
    "with mlflow.start_run(experiment_id = experiment_id):\n",
    "    \n",
    "    # Set the model parameters. \n",
    "    alpha = 0.4\n",
    "    normalize = True\n",
    "\n",
    "    ridge = Ridge(alpha = alpha, normalize = normalize)\n",
    "    # Naive model\n",
    "    ridge_model = ridge.fit(X_train, y_train)\n",
    "    ridge_pred = ridge.predict(X_test)\n",
    "  \n",
    "    # Log model\n",
    "    mlflow.sklearn.log_model(ridge_model, \"ridge-linear-regression-model\")\n",
    "      \n",
    "    # Metrics\n",
    "    MAE = mean_absolute_error(y_test, yPrediction)\n",
    "    print(\"MAE: {}\". format(MAE))\n",
    "    RMSE = mean_squared_error(y_test, yPrediction)\n",
    "    print(\"Root Mean Squared Error: {}\". format(RMSE))\n",
    "    R2 = r2_score(y_test, yPrediction)\n",
    "    print(\"R2: {}\". format(R2))\n",
    "    NMAE = median_absolute_error(y_test, yPrediction)\n",
    "    print(\"Median Mean Squared Error: {}\". format(NMAE))\n",
    "\n",
    "    mlflow.log_param('alpha', alpha)\n",
    "    mlflow.log_param('normalize', normalize)\n",
    "    \n",
    "    mlflow.log_metric('MAE',MAE)\n",
    "    mlflow.log_metric('RMSE',RMSE)\n",
    "    mlflow.log_metric('R2',R2)\n",
    "    mlflow.log_metric('NMAE',NMAE)"
   ]
  },
  {
   "cell_type": "markdown",
   "metadata": {},
   "source": [
    "### 4) LASSO"
   ]
  },
  {
   "cell_type": "code",
   "execution_count": 14,
   "metadata": {},
   "outputs": [],
   "source": [
    "X = dum[['age', 'weight', 'duration', 'heart_rate','body_temp','female', 'male']]\n",
    "y = dum.calorie\n",
    "\n",
    "X_train,X_test,y_train,y_test = train_test_split(X,y,test_size=0.3,random_state=42)"
   ]
  },
  {
   "cell_type": "code",
   "execution_count": 15,
   "metadata": {},
   "outputs": [
    {
     "name": "stdout",
     "output_type": "stream",
     "text": [
      "MAE: 5.459854078144971\n",
      "Root Mean Squared Error: 63.84568119378923\n",
      "R2: 0.9838259314902525\n",
      "Median Mean Squared Error: 3.6715093947254545\n"
     ]
    }
   ],
   "source": [
    "with mlflow.start_run(experiment_id = experiment_id):\n",
    "\n",
    "    # Set the model parameters. \n",
    "    alpha=0\n",
    "  \n",
    "    # Create and train model.\n",
    "    ls = linear_model.Lasso(alpha=alpha)\n",
    "    ls.fit(X_train,y_train)\n",
    "  \n",
    "    # Use the model to make predictions on the test dataset.\n",
    "    yPrediction = rf.predict(X_test)\n",
    "    \n",
    "      # Log model\n",
    "    mlflow.sklearn.log_model(ls, \"Lasso-model\")\n",
    "  \n",
    "    # Metrics\n",
    "    MAE = mean_absolute_error(y_test, yPrediction)\n",
    "    print(\"MAE: {}\". format(MAE))\n",
    "    RMSE = mean_squared_error(y_test, yPrediction)\n",
    "    print(\"Root Mean Squared Error: {}\". format(RMSE))\n",
    "    R2 = r2_score(y_test, yPrediction)\n",
    "    print(\"R2: {}\". format(R2))\n",
    "    NMAE = median_absolute_error(y_test, yPrediction)\n",
    "    print(\"Median Mean Squared Error: {}\". format(NMAE))\n",
    " \n",
    "    #log parmas\n",
    "    mlflow.log_param('alpha', alpha)\n",
    "  \n",
    "    # log metrics\n",
    "    mlflow.log_metric('MAE',MAE)\n",
    "    mlflow.log_metric('RMSE',RMSE)\n",
    "    mlflow.log_metric('R2',R2)\n",
    "    mlflow.log_metric('NMAE',NMAE)"
   ]
  },
  {
   "cell_type": "markdown",
   "metadata": {},
   "source": [
    "## Regression linéaire multiple"
   ]
  },
  {
   "cell_type": "code",
   "execution_count": 16,
   "metadata": {},
   "outputs": [],
   "source": [
    "# utilisation des doubles crochets pour renvoyer un DataFrame pour la variable  X\n",
    "X = df_db[['age', 'height', 'weight', 'duration', 'heart_rate', 'body_temp']]\n",
    "# y unidimensionnel\n",
    "y = df_db['calorie']\n",
    "\n",
    "X_train,X_test,y_train,y_test = train_test_split(X,y,test_size=0.3,random_state=10)"
   ]
  },
  {
   "cell_type": "code",
   "execution_count": 17,
   "metadata": {},
   "outputs": [
    {
     "name": "stdout",
     "output_type": "stream",
     "text": [
      "MAE: 8.429490621841946\n",
      "Root Mean Squared Error: 129.02388515509887\n",
      "R2: 0.9668917868828775\n",
      "Median Mean Squared Error: 6.515738424173975\n"
     ]
    }
   ],
   "source": [
    "with mlflow.start_run(experiment_id = experiment_id):\n",
    "    \n",
    "    # Set the model parameters. \n",
    "    fit_intercept = True\n",
    "    normalize = True\n",
    "    \n",
    "    #regression linéaire avec plusieurs features : 'age', 'height', 'weight', 'duration', 'heart_rate', 'body_temp'\n",
    "    model_lineaire_multiple = LinearRegression(fit_intercept=fit_intercept,normalize=normalize)\n",
    "    model_lineaire_multiple.fit(X_train,y_train)\n",
    "\n",
    "    yPrediction = model_lineaire_multiple.predict(X_test)\n",
    "    \n",
    "    # Log model\n",
    "    mlflow.sklearn.log_model(model_lineaire_multiple, \"model_lineaire_multiple\")\n",
    "    \n",
    "    # Metrics\n",
    "    MAE = mean_absolute_error(y_test, yPrediction)\n",
    "    print(\"MAE: {}\". format(MAE))\n",
    "    RMSE = mean_squared_error(y_test, yPrediction)\n",
    "    print(\"Root Mean Squared Error: {}\". format(RMSE))\n",
    "    R2 = r2_score(y_test, yPrediction)\n",
    "    print(\"R2: {}\". format(R2))\n",
    "    NMAE = median_absolute_error(y_test, yPrediction)\n",
    "    print(\"Median Mean Squared Error: {}\". format(NMAE))\n",
    "    \n",
    "    #log params\n",
    "    mlflow.log_param('fit_intercept', fit_intercept)\n",
    "    mlflow.log_param('normalize', normalize)\n",
    "    \n",
    "    #log metrics\n",
    "    mlflow.log_metric('MAE',MAE)\n",
    "    mlflow.log_metric('RMSE',RMSE)\n",
    "    mlflow.log_metric('R2',R2)\n",
    "    mlflow.log_metric('NMAE',NMAE)\n",
    "    "
   ]
  },
  {
   "cell_type": "code",
   "execution_count": null,
   "metadata": {},
   "outputs": [],
   "source": []
  }
 ],
 "metadata": {
  "kernelspec": {
   "display_name": "Python 3",
   "language": "python",
   "name": "python3"
  },
  "language_info": {
   "codemirror_mode": {
    "name": "ipython",
    "version": 3
   },
   "file_extension": ".py",
   "mimetype": "text/x-python",
   "name": "python",
   "nbconvert_exporter": "python",
   "pygments_lexer": "ipython3",
   "version": "3.7.6"
  },
  "toc": {
   "base_numbering": 1,
   "nav_menu": {},
   "number_sections": true,
   "sideBar": true,
   "skip_h1_title": false,
   "title_cell": "Table of Contents",
   "title_sidebar": "Contents",
   "toc_cell": false,
   "toc_position": {
    "height": "calc(100% - 180px)",
    "left": "10px",
    "top": "150px",
    "width": "320px"
   },
   "toc_section_display": true,
   "toc_window_display": true
  }
 },
 "nbformat": 4,
 "nbformat_minor": 4
}
